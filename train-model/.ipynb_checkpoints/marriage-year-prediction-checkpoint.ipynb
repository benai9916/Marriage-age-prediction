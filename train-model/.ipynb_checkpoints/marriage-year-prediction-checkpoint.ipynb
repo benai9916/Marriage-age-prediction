{
 "cells": [
  {
   "cell_type": "markdown",
   "metadata": {},
   "source": [
    "### Predicing Year/age of Marriage\n",
    "Fill in your detail and see the prediction in which year or age you will get marrige.\n",
    "\n",
    "### Workflow\n",
    "- Data Preprossing\n",
    "- EDA\n",
    "- Feature Selection\n",
    "- Build Model\n",
    "- Deploy to production with Flask\n",
    "\n",
    "## Load packages"
   ]
  },
  {
   "cell_type": "code",
   "execution_count": 48,
   "metadata": {},
   "outputs": [],
   "source": [
    "# EDA packages\n",
    "import pandas as pd\n",
    "import numpy as np\n",
    "\n",
    "# visualization package\n",
    "import matplotlib.pyplot as plt\n",
    "import seaborn as sns\n",
    "\n",
    "from sklearn.model_selection import train_test_split\n",
    "from sklearn.metrics import mean_absolute_error, mean_squared_error, r2_score\n",
    "import statsmodels.api as sm"
   ]
  },
  {
   "cell_type": "code",
   "execution_count": 49,
   "metadata": {},
   "outputs": [],
   "source": [
    "marriage_df = pd.read_csv('G:\\\\ML\\\\Marriage-age-prediction\\\\train-model\\marriage-data.csv')"
   ]
  },
  {
   "cell_type": "code",
   "execution_count": 50,
   "metadata": {},
   "outputs": [
    {
     "data": {
      "text/html": [
       "<div>\n",
       "<style scoped>\n",
       "    .dataframe tbody tr th:only-of-type {\n",
       "        vertical-align: middle;\n",
       "    }\n",
       "\n",
       "    .dataframe tbody tr th {\n",
       "        vertical-align: top;\n",
       "    }\n",
       "\n",
       "    .dataframe thead th {\n",
       "        text-align: right;\n",
       "    }\n",
       "</style>\n",
       "<table border=\"1\" class=\"dataframe\">\n",
       "  <thead>\n",
       "    <tr style=\"text-align: right;\">\n",
       "      <th></th>\n",
       "      <th>id</th>\n",
       "      <th>gender</th>\n",
       "      <th>height</th>\n",
       "      <th>religion</th>\n",
       "      <th>caste</th>\n",
       "      <th>mother_tongue</th>\n",
       "      <th>profession</th>\n",
       "      <th>location</th>\n",
       "      <th>country</th>\n",
       "      <th>age_of_marriage</th>\n",
       "    </tr>\n",
       "  </thead>\n",
       "  <tbody>\n",
       "    <tr>\n",
       "      <th>0</th>\n",
       "      <td>1</td>\n",
       "      <td>female</td>\n",
       "      <td>5'4\"</td>\n",
       "      <td>NaN</td>\n",
       "      <td>others</td>\n",
       "      <td>Telugu</td>\n",
       "      <td>NaN</td>\n",
       "      <td>London</td>\n",
       "      <td>United Kingdom</td>\n",
       "      <td>21.0</td>\n",
       "    </tr>\n",
       "    <tr>\n",
       "      <th>1</th>\n",
       "      <td>2</td>\n",
       "      <td>male</td>\n",
       "      <td>5'7\"</td>\n",
       "      <td>Jain</td>\n",
       "      <td>Shwetamber</td>\n",
       "      <td>Gujarati</td>\n",
       "      <td>Doctor / Healthcare Professional</td>\n",
       "      <td>Fairfax- VA</td>\n",
       "      <td>USA</td>\n",
       "      <td>32.0</td>\n",
       "    </tr>\n",
       "    <tr>\n",
       "      <th>2</th>\n",
       "      <td>3</td>\n",
       "      <td>male</td>\n",
       "      <td>5'7\"</td>\n",
       "      <td>Hindu</td>\n",
       "      <td>Brahmin</td>\n",
       "      <td>Hindi</td>\n",
       "      <td>Entrepreneurs / Business</td>\n",
       "      <td>Begusarai</td>\n",
       "      <td>India</td>\n",
       "      <td>32.0</td>\n",
       "    </tr>\n",
       "    <tr>\n",
       "      <th>3</th>\n",
       "      <td>4</td>\n",
       "      <td>female</td>\n",
       "      <td>5'0\"</td>\n",
       "      <td>Hindu</td>\n",
       "      <td>Thakur</td>\n",
       "      <td>Hindi</td>\n",
       "      <td>Architect</td>\n",
       "      <td>Mumbai</td>\n",
       "      <td>India</td>\n",
       "      <td>30.0</td>\n",
       "    </tr>\n",
       "    <tr>\n",
       "      <th>4</th>\n",
       "      <td>5</td>\n",
       "      <td>male</td>\n",
       "      <td>5'5\"</td>\n",
       "      <td>Christian</td>\n",
       "      <td>Born Again</td>\n",
       "      <td>Malayalam</td>\n",
       "      <td>Sales Professional / Marketing</td>\n",
       "      <td>Sulthan Bathery</td>\n",
       "      <td>India</td>\n",
       "      <td>30.0</td>\n",
       "    </tr>\n",
       "  </tbody>\n",
       "</table>\n",
       "</div>"
      ],
      "text/plain": [
       "   id  gender height   religion        caste mother_tongue  \\\n",
       "0   1  female   5'4\"        NaN       others        Telugu   \n",
       "1   2    male   5'7\"       Jain   Shwetamber      Gujarati   \n",
       "2   3    male   5'7\"      Hindu      Brahmin         Hindi   \n",
       "3   4  female   5'0\"      Hindu       Thakur         Hindi   \n",
       "4   5    male   5'5\"  Christian   Born Again     Malayalam   \n",
       "\n",
       "                         profession         location          country  \\\n",
       "0                               NaN           London   United Kingdom   \n",
       "1  Doctor / Healthcare Professional      Fairfax- VA              USA   \n",
       "2         Entrepreneurs / Business         Begusarai            India   \n",
       "3                         Architect           Mumbai            India   \n",
       "4    Sales Professional / Marketing  Sulthan Bathery            India   \n",
       "\n",
       "   age_of_marriage  \n",
       "0             21.0  \n",
       "1             32.0  \n",
       "2             32.0  \n",
       "3             30.0  \n",
       "4             30.0  "
      ]
     },
     "execution_count": 50,
     "metadata": {},
     "output_type": "execute_result"
    }
   ],
   "source": [
    "# Preview the first five row\n",
    "marriage_df.head()"
   ]
  },
  {
   "cell_type": "code",
   "execution_count": 51,
   "metadata": {},
   "outputs": [
    {
     "data": {
      "text/plain": [
       "(2567, 10)"
      ]
     },
     "execution_count": 51,
     "metadata": {},
     "output_type": "execute_result"
    }
   ],
   "source": [
    "# check the size of the dataset\n",
    "marriage_df.shape"
   ]
  },
  {
   "cell_type": "code",
   "execution_count": 52,
   "metadata": {},
   "outputs": [
    {
     "name": "stdout",
     "output_type": "stream",
     "text": [
      "<class 'pandas.core.frame.DataFrame'>\n",
      "RangeIndex: 2567 entries, 0 to 2566\n",
      "Data columns (total 10 columns):\n",
      "id                 2567 non-null int64\n",
      "gender             2538 non-null object\n",
      "height             2449 non-null object\n",
      "religion           1932 non-null object\n",
      "caste              2425 non-null object\n",
      "mother_tongue      2403 non-null object\n",
      "profession         2237 non-null object\n",
      "location           2412 non-null object\n",
      "country            2551 non-null object\n",
      "age_of_marriage    2548 non-null float64\n",
      "dtypes: float64(1), int64(1), object(8)\n",
      "memory usage: 200.7+ KB\n"
     ]
    }
   ],
   "source": [
    "# Check out Data Types, memory usage, no of rows\n",
    "marriage_df.info()"
   ]
  },
  {
   "cell_type": "code",
   "execution_count": 53,
   "metadata": {},
   "outputs": [],
   "source": [
    "# make id column as index\n",
    "marriage_df.set_index('id',inplace=True)"
   ]
  },
  {
   "cell_type": "markdown",
   "metadata": {},
   "source": [
    "## EDA"
   ]
  },
  {
   "cell_type": "code",
   "execution_count": 54,
   "metadata": {},
   "outputs": [
    {
     "data": {
      "text/html": [
       "<div>\n",
       "<style scoped>\n",
       "    .dataframe tbody tr th:only-of-type {\n",
       "        vertical-align: middle;\n",
       "    }\n",
       "\n",
       "    .dataframe tbody tr th {\n",
       "        vertical-align: top;\n",
       "    }\n",
       "\n",
       "    .dataframe thead th {\n",
       "        text-align: right;\n",
       "    }\n",
       "</style>\n",
       "<table border=\"1\" class=\"dataframe\">\n",
       "  <thead>\n",
       "    <tr style=\"text-align: right;\">\n",
       "      <th></th>\n",
       "      <th>age_of_marriage</th>\n",
       "    </tr>\n",
       "  </thead>\n",
       "  <tbody>\n",
       "    <tr>\n",
       "      <th>count</th>\n",
       "      <td>2548.000000</td>\n",
       "    </tr>\n",
       "    <tr>\n",
       "      <th>mean</th>\n",
       "      <td>29.648352</td>\n",
       "    </tr>\n",
       "    <tr>\n",
       "      <th>std</th>\n",
       "      <td>2.802414</td>\n",
       "    </tr>\n",
       "    <tr>\n",
       "      <th>min</th>\n",
       "      <td>20.000000</td>\n",
       "    </tr>\n",
       "    <tr>\n",
       "      <th>25%</th>\n",
       "      <td>28.000000</td>\n",
       "    </tr>\n",
       "    <tr>\n",
       "      <th>50%</th>\n",
       "      <td>30.000000</td>\n",
       "    </tr>\n",
       "    <tr>\n",
       "      <th>75%</th>\n",
       "      <td>32.000000</td>\n",
       "    </tr>\n",
       "    <tr>\n",
       "      <th>max</th>\n",
       "      <td>36.000000</td>\n",
       "    </tr>\n",
       "  </tbody>\n",
       "</table>\n",
       "</div>"
      ],
      "text/plain": [
       "       age_of_marriage\n",
       "count      2548.000000\n",
       "mean         29.648352\n",
       "std           2.802414\n",
       "min          20.000000\n",
       "25%          28.000000\n",
       "50%          30.000000\n",
       "75%          32.000000\n",
       "max          36.000000"
      ]
     },
     "execution_count": 54,
     "metadata": {},
     "output_type": "execute_result"
    }
   ],
   "source": [
    "# print some statistic of data\n",
    "marriage_df.describe()"
   ]
  },
  {
   "cell_type": "code",
   "execution_count": 55,
   "metadata": {},
   "outputs": [
    {
     "data": {
      "text/plain": [
       "gender              29\n",
       "height             118\n",
       "religion           635\n",
       "caste              142\n",
       "mother_tongue      164\n",
       "profession         330\n",
       "location           155\n",
       "country             16\n",
       "age_of_marriage     19\n",
       "dtype: int64"
      ]
     },
     "execution_count": 55,
     "metadata": {},
     "output_type": "execute_result"
    }
   ],
   "source": [
    "# check for missing value\n",
    "marriage_df.isna().sum()"
   ]
  },
  {
   "cell_type": "code",
   "execution_count": 56,
   "metadata": {},
   "outputs": [
    {
     "data": {
      "text/plain": [
       "24.737047136735487"
      ]
     },
     "execution_count": 56,
     "metadata": {},
     "output_type": "execute_result"
    }
   ],
   "source": [
    "# 24 % of the the data not contain null value\n",
    "(marriage_df.shape[0] - marriage_df.dropna().shape[0]) / marriage_df.shape[0] * 100"
   ]
  },
  {
   "cell_type": "code",
   "execution_count": 57,
   "metadata": {},
   "outputs": [],
   "source": [
    "#features = ['gender', 'height', 'religion', 'age_of_marriage']\n",
    "marriage_df.dropna(inplace=True)"
   ]
  },
  {
   "cell_type": "code",
   "execution_count": 58,
   "metadata": {},
   "outputs": [],
   "source": [
    "# for cols in features:\n",
    "#     if cols == 'age_of_marriage':\n",
    "#         marriage_df[cols] = marriage_df[cols].fillna(marriage_df['age_of_marriage'].mode())\n",
    "#     else:\n",
    "#         frequent_value = marriage_df[cols].value_counts().index\n",
    "#         if frequent_value[0] == 'nan':\n",
    "#             frequent_value[0]\n",
    "#             marriage_df[cols] = marriage_df[cols].fillna(frequent_value[0])       \n",
    "#         else:\n",
    "#             marriage_df[cols] = marriage_df[cols].fillna(frequent_value[1])"
   ]
  },
  {
   "cell_type": "code",
   "execution_count": 59,
   "metadata": {},
   "outputs": [
    {
     "data": {
      "text/plain": [
       "0.0"
      ]
     },
     "execution_count": 59,
     "metadata": {},
     "output_type": "execute_result"
    }
   ],
   "source": [
    "(marriage_df.shape[0] - marriage_df.dropna().shape[0]) / marriage_df.shape[0] * 100\n",
    "#marriage_df.head()"
   ]
  },
  {
   "cell_type": "code",
   "execution_count": 60,
   "metadata": {},
   "outputs": [
    {
     "name": "stdout",
     "output_type": "stream",
     "text": [
      "gender  have  2 -> ['male' 'female']\n",
      "height  have  27 -> ['5\\'7\"' '5\\'0\"' '5\\'5\"' '5\\'2\"' '5\\'1\"' '5\\'9\"' '5\\'10\"' '5\\'3\"' '5\\'4\"'\n",
      " '5\\'6\"' '5\\'11\"' '5\\'8\"' '4\\'5\"' '6\\'5\"' '4\\'11\"' '4\\'7\"' '4\\'9\"' '6\\'0\"'\n",
      " '4\\'6\"' '4\\'10\"' '6\\'1\"' '6\\'2\"' '4\\'8\"' '6\\'10\"' '6\\'3\"' '7\\'0\"' '6\\'4\"']\n",
      "religion  have  5 -> ['Jain' 'Hindu' 'Christian' 'Muslim' 'Sikh']\n",
      "caste  have  41 -> [' Shwetamber' ' Brahmin' ' Thakur' ' Born Again' ' Valmiki'\n",
      " ' Rajput - Lodhi' ' Bhatia' ' Billava' ' Vanniyar' ' Agri' ' Marthoma'\n",
      " ' Ahom' ' Baishnab' ' Roman Catholic' ' Lingayath' ' Kalita' ' Vaishnav'\n",
      " ' Sahu' ' Baishya' ' Memon' ' Agarwal' ' Panchal' ' Baidya' ' Kaibarta'\n",
      " ' Sindhi-Sakkhar' ' Viswabrahmin' ' Patel' ' Scheduled Caste (SC)'\n",
      " ' Kshatriya' ' Ramdasia' ' Khatri' ' OBC - Barber/Naayee' ' Baniya'\n",
      " ' Goud' ' Balija' ' Arora' ' Kayastha' ' Gursikh' ' Arya Vysya'\n",
      " ' Bhandari' ' Saini']\n",
      "mother_tongue  have  27 -> ['Gujarati' 'Hindi' 'Malayalam' 'Punjabi' 'Tulu' 'Bengali' 'Tamil'\n",
      " 'Marathi' 'Assamese' 'Kannada' 'Sindhi' 'Telugu' 'English' 'Marwari'\n",
      " 'Odia' 'Konkani' 'Chattisgarhi' 'Kutchi' 'Bhojpuri' 'Urdu' 'Nepali'\n",
      " 'Haryanavi' 'Other' 'Rajasthani' 'Manipuri' 'Aka' 'Kashmiri']\n",
      "profession  have  84 -> ['Doctor / Healthcare Professional' 'Entrepreneurs / Business '\n",
      " 'Architect' 'Sales Professional / Marketing' 'Sportsman'\n",
      " 'Banking Professional' 'Software Professional' 'HR Professional'\n",
      " 'Finance Professional' 'Not Specified' 'Not working'\n",
      " 'Chartered Accountant' 'Logistics and Travel Professional'\n",
      " 'Defense Services' 'Team Member / Staff' 'Managers and Senior Executives'\n",
      " 'Admin Professional' 'Accounting Professional (Others)'\n",
      " 'Investment Professional' 'Civil Engineer'\n",
      " 'Consultant / Supervisor / Team Leads' 'Public Relations Professional'\n",
      " 'Training Professional (Others)'\n",
      " 'Hotel & Hospitality Professional (Others)'\n",
      " 'Software Professional (Others)' 'Nurse' 'Artist (Others)'\n",
      " 'Non IT Engineer (Others)' 'Event Manager' 'Marketing Professional'\n",
      " 'Science Professional (Others)' 'Mechanical / Production Engineer'\n",
      " 'Research Assistant' 'Electronics / Telecom Engineer' 'Teacher'\n",
      " 'Professor' 'Interior Designer' 'Fashion Designer' 'Beautician'\n",
      " 'Software Consultant' 'Medical / Healthcare Professional (Others)'\n",
      " 'Agent / Broker / Trader / Contractor' 'Lawyer'\n",
      " 'Hardware & Networking professional' 'Web / UX Designers' 'Pharmacist'\n",
      " 'Research Scholar' 'Actor' 'Entertainment Professional' 'Student'\n",
      " 'Customer Support / BPO / KPO Professional' 'Designer (Others)'\n",
      " 'Media Professional' 'Physiotherapist / Occupational Therapist'\n",
      " 'Merchant Naval Officer' 'VP / AVP / GM / DGM'\n",
      " 'CxO / Chairman / Director / President' 'IAS / IRS / IES / IFS' 'Writer'\n",
      " 'Lecturer' 'Other Airline Professional' 'Social Worker / Volunteer / NGO'\n",
      " 'Jewellery Designer' 'Company Secretary' 'Mariner'\n",
      " 'Chef / Sommelier / Food Critic' 'Law Enforcement Employee (Others)'\n",
      " 'Hairstylist' 'Agricultural Professional (Others)' 'Farming'\n",
      " 'Landscape Architect' 'Psychologist' 'Legal Assistant' 'Dentist'\n",
      " 'Surgeon' 'Legal Professional (Others)' 'Air Hostess / Flight Attendant'\n",
      " 'Advertising Professional' 'Indian Police Services [IPS]'\n",
      " 'Medical Transcriptionist' 'Physician Assistant' 'Commercial Artist'\n",
      " 'Veterinary Doctor / Healthcare Professional' 'Pilot / Co-Pilot']\n",
      "location  have  461 -> ['Fairfax- VA' 'Begusarai' 'Mumbai' 'Sulthan Bathery' 'Delhi' 'Jodhpur'\n",
      " 'Faridabad' 'Vadodara' 'Bengaluru / Bangalore' 'Suri' 'Vellore' 'Kollam'\n",
      " 'Assam' 'Dhubri' 'Jorhat' 'Pleasanton- CA' 'Raigad' 'San Francisco- CA'\n",
      " 'Sagar' 'Lucknow' 'Berhampur' 'Lakhisarai' 'Mysuru / Mysore' 'Sydney'\n",
      " 'Panchkula' 'Agra' 'Karnal' 'Ahmedabad' 'Silchar' 'Sibsagar' 'Kozhikode'\n",
      " 'Gwalior' 'Aligarh' 'Kolkata' 'Tanuku' 'Dubai' 'Siliguri' 'Punjab'\n",
      " 'Chicago- IL' 'Coimbatore' 'Ratnagiri' 'Guwahati' 'Orissa' 'Gorakhpur'\n",
      " 'Moga' 'Noida' 'Golaghat' 'Cuttack' 'Surat' 'Maharashtra' 'Bhadrak'\n",
      " 'Patiala' 'Surrey' 'Anantapur' 'Mangaluru / Mangalore' 'Anand' 'Malda'\n",
      " 'Atlanta- GA' 'Hyderabad' 'Titakudi' 'Delhi-NCR' 'West Bengal' 'Nellore'\n",
      " 'Pune' 'Belagavi / Belagaum' 'Nashik' 'Amritsar' 'Bhadrachalam'\n",
      " 'Burhanpur' 'Balangir' 'Sonepat' 'Jaipur' 'Ranchi' 'Indore'\n",
      " 'Visakhapatnam' 'Aurangabad' 'Bhopal' 'Dibrugarh' 'Panikoili' 'Ludhiana'\n",
      " 'Albertville- AL' 'Chandigarh' 'Adoni' 'Jamshedpur' 'Rupnagar' 'Unnao'\n",
      " 'Toronto' 'Kanpur' 'Sitapur' 'Puri' 'Bathinda' 'Other' 'Melbourne'\n",
      " 'Karimnagar' 'Janjgir' 'Alipore' 'Deoghar' 'Hubbali-Dharwad' 'Bharuch'\n",
      " 'Mathura' 'Belleville- NJ' 'Gandhinagar' 'Mandi' 'Jhansi' 'Raipur'\n",
      " 'Cambridge- MA' 'Uttar Pradesh' 'Gurgaon' 'Patna' 'Raigarh' 'Karnataka'\n",
      " 'Bidar' 'Bankura' 'Dungarpur' 'Jharsuguda' 'Vancouver' 'Hoshiarpur'\n",
      " 'Chennai' 'Balurghat' 'Davanagere' 'Dehradun' 'Rajasthan'\n",
      " 'Vijayapura / Bijapur' 'Mohali' 'Tempe- AZ' 'Rajnandgaon'\n",
      " 'Stockbridge- GA' 'Chhattisgarh' 'Ghaziabad' 'Bilaspur' 'Jammu' 'Dhemaji'\n",
      " 'Kundapura' 'Goa' 'Durg' 'Edmonton' 'Sunnyvale- CA' 'Chinsurah' 'Akola'\n",
      " 'Ujjain' 'Hosapete' 'Panaji' 'Cary- NC' 'Kalaburagi / Gulbarga' 'Nirmal'\n",
      " 'Saint Catharines' 'Madison- WI' 'Udupi' 'Dhenkanal' 'New York- NY'\n",
      " 'Kolhapur' 'Denver- CO' 'Mesquite- TX' 'Nandyal' 'Alwar' 'Rajahmundry'\n",
      " 'Arlington Heights- IL' 'Ajman' 'Tumakuru' 'Raichur' 'Jersey City- NJ'\n",
      " 'Seattle- WA' 'Al Khawr' 'Bhavnagar' 'Solapur' 'Hanumangarh' 'Jalandhar'\n",
      " 'Chittoor' 'London' 'Buldhana' 'Barking And Dagenham' 'Florida' 'Kadiri'\n",
      " 'Baleshwar' 'Berhampore' 'Gadag / Betigeri' 'Ahmednagar' 'Meerut'\n",
      " 'Sangli' 'Rajkot' 'Mandla' 'Dispur' 'Texas City- TX' 'Jaunpur' 'Nalgonda'\n",
      " 'Cuddalore' 'Barasat' 'Vapi' 'Gadwal' 'Anekal' 'Bokaro Steel City'\n",
      " 'Kaithal' 'Jabalpur' 'Chengam' 'Neemuch' 'Rae Bareli' 'Auckland' 'Ajmer'\n",
      " 'Cuddapah / Kadapa' 'Nagpur' 'Warangal' 'Sharjah' 'Samastipur'\n",
      " 'Des Moines- IA' 'Glen Allen- VA' 'Leicester' 'Balaghat' 'Charlotte- NC'\n",
      " 'Sangrur' 'Montreal' 'Bhandara' 'Bongaigaon' 'Bhubaneswar' 'Bageshwar'\n",
      " 'Tenali' 'Taunggyi' 'Bihar Sharif' 'Nagaon' 'Nashville- TN' 'Rayagada'\n",
      " 'Haldwani' 'Pondicherry' 'San Jose- CA' 'Bhagalpur' 'Brisbane'\n",
      " 'Yamunanagar' 'Springfield- OH' 'San Diego- CA' 'Diphu' 'Kawardha'\n",
      " 'Chikkamagaluru' 'Latur' 'Adipur' 'Pilibhit' 'Ballia' 'Andhra Pradesh'\n",
      " 'Satna' 'Philadelphia- PA' 'Bargarh' 'Bheemavaram' 'Tirupati'\n",
      " 'Hoshangabad' 'Kuala Lumpur' 'Boston- MA' 'Fatehgarh' 'Kurukshetra'\n",
      " 'Howra' 'Mississauga' 'Nalbari' 'Ernakulam' 'Dharmapuri' 'Mangaldai'\n",
      " 'Chicago Heights- IL' 'Abu Dhabi' 'Darjeeling' 'Rewari' 'Fatehgarh Sahib'\n",
      " 'Rajpipla' 'Pathanamthitta' 'Harihar' 'Chabasa' 'Bahraich' 'Kheda'\n",
      " 'Burtonsville- MD' 'Hamirpur' 'Una' 'Lahore' 'Ambala' 'Ara'\n",
      " 'Krishnanagar' 'Fatehpur' 'Hamilton' 'Viluppuram' 'Henderson- NV'\n",
      " 'Thiruvananthapuram' 'Brampton' 'Nayagarh' 'Dhaka' 'Hailakandi'\n",
      " 'Alappuzha' 'Bareilly' 'Eluru' 'Kent- WA' 'Sukkur' 'Auraiya' 'Thanjavur'\n",
      " 'Tezu' 'Uttaranchal' 'Secunderabad' 'Enfield' 'Kakinada' 'Houston- TX'\n",
      " 'Baltimore- MD' 'Katni' 'Baripada' 'Markham' 'Idukki' 'Folsom- CA'\n",
      " 'Dera Allah Yar' 'Kirkcaldy' 'Ponnur' 'Erode' 'Pathankot' 'Narnaul'\n",
      " 'Medford- NY' 'Salem' 'Ballari / Bellary' 'Nanded' 'Beed' 'Yercaud'\n",
      " 'Tripura' 'Jamnagar' 'Hazaribag' 'Chandrapur' 'Tiruvallur' 'Boudh'\n",
      " 'Greater London / Middlesex' 'Clemson- SC' 'Kuwait' 'Dallas- TX'\n",
      " 'Giridih' 'Madhubani' 'Shirhatti' 'Gujarat' 'Deoria' 'Valsad'\n",
      " 'Srikakulam' 'Kottayam' 'Chhindwara' 'Richmond- VA' 'Adamsville- AL'\n",
      " 'Saharanpur' 'Khammam' 'Rohtak' 'Seoni' 'Windsor' 'Carrollton- TX'\n",
      " 'Los Angeles- CA' 'Bardhaman' 'Texas' 'Namakkal' 'Allahabad' 'Ganganagar'\n",
      " 'Lohardaga' 'Hillsboro- OR' 'Newcastle Upon Tyne' 'Muktsar' 'Orlando- FL'\n",
      " 'Shahjahanpur' 'Vijayawada' 'Betul' 'Jidd Haffs' 'Hoskote' 'Bhatkal'\n",
      " 'Ontario' 'Geelong' 'Al-Kuwayt' 'Ramachandrapuram-Bhel Township'\n",
      " 'Agartala' 'Solan' 'Reading' 'New Jersey' 'Kumbakonam' 'Jalgaon'\n",
      " 'Kurnool' 'Dharamasala' 'Warwick- RI' 'Irving- TX' 'Marigaon' 'Roorkee'\n",
      " 'Himachal Pradesh' 'Tiruvannamalai' 'Madurai' 'Krishnagiri' 'Benson- AZ'\n",
      " 'Dublin' 'Darwin' 'Margao' 'Haridwar' 'Al-Farawaniyah' 'Budaun'\n",
      " 'Sambalpur' 'Liverpool' 'West Midlands' 'Harrow' 'Kedah' 'Purnia'\n",
      " 'Ranga Reddy' 'Muscat' 'Chamrajnagar' 'Porbandar' 'Sundargarh'\n",
      " 'Nawan Shehar' 'Farmington Hills- MI' 'Vizianagaram'\n",
      " 'Fort Lauderdale- FL' 'Baran' 'Haryana' 'Dhanbad' 'Phulbani' 'Asansol'\n",
      " 'Koraput' 'Shivamogga' 'Midnapore' 'Claymont- DE' 'Guntur' 'Durgapur'\n",
      " 'Hoboken- NJ' 'Bijnor' 'Bulandshahr' 'Iselin- NJ' 'Singapore'\n",
      " 'Piriyapatna' 'Taguig' 'Oslo' 'Suhl' 'Honnavar' 'Columbus- OH'\n",
      " 'Mancherial' 'Kelang' 'Puruliya' 'Mahoba' 'Tadepalligudem' 'Coventry'\n",
      " 'Fayetteville- NC' 'Ramachandrapuram(Medak)' 'Durban' 'Savannah- GA'\n",
      " 'Bellevue- WA' 'Amalapuram' 'Moradabad' 'Bay Shore- NY' 'Rajgarh'\n",
      " 'Old Bridge- NJ' 'Vidisha' 'Parbhani' 'Kandukur' 'Sterling Heights- MI'\n",
      " 'Dhamtari' 'Berlin' 'Nandurbar' 'Canberra' 'Kamareddy' 'Rockville- MD'\n",
      " 'Portland- OR' 'Victoria' 'Buhasa' 'Satara' 'Mokokchung' 'Navsari'\n",
      " 'Faizabad' 'King Of Prussia- PA' 'Vaughan' 'Bhongir' 'Pittsburgh- PA'\n",
      " 'Siwan' 'Kannauj' 'S-Gravenhage' 'Barisal' 'Kupwara' 'Ottawa']\n",
      "country  have  22 -> [' USA' ' India' ' Australia' ' United Arab Emirates' ' Canada'\n",
      " ' Netherlands' ' Qatar' ' United Kingdom' ' New Zealand' ' Myanmar'\n",
      " ' Malaysia' ' Pakistan' ' Bangladesh' ' Kuwait' ' Bahrain' ' Ireland'\n",
      " ' Oman' ' Singapore' ' Philippines' ' Norway' ' Germany' ' South Africa']\n",
      "age_of_marriage  have  13 -> [32. 30. 29. 28. 35. 31. 34. 27. 26. 33. 36. 25. 24.]\n"
     ]
    }
   ],
   "source": [
    "for cols in marriage_df.columns:\n",
    "    print(cols, ' have ', marriage_df[cols].nunique(), '->', marriage_df[cols].unique())"
   ]
  },
  {
   "cell_type": "code",
   "execution_count": 61,
   "metadata": {},
   "outputs": [],
   "source": [
    "# drop missing vaalues\n",
    "marriage_df.dropna(inplace=True)"
   ]
  },
  {
   "cell_type": "code",
   "execution_count": 62,
   "metadata": {},
   "outputs": [
    {
     "data": {
      "text/plain": [
       "(1932, 9)"
      ]
     },
     "execution_count": 62,
     "metadata": {},
     "output_type": "execute_result"
    }
   ],
   "source": [
    "marriage_df.shape"
   ]
  },
  {
   "cell_type": "code",
   "execution_count": 63,
   "metadata": {},
   "outputs": [],
   "source": [
    "marriage_df['profession'] = marriage_df['profession'].apply(lambda x: x.split('/')[0].replace(' ', '_').strip('_'))\n",
    "marriage_df['location'] = marriage_df['location'].apply(lambda x: x.split('/')[0].replace(' ', '_').strip('_'))"
   ]
  },
  {
   "cell_type": "code",
   "execution_count": 64,
   "metadata": {},
   "outputs": [
    {
     "data": {
      "text/html": [
       "<div>\n",
       "<style scoped>\n",
       "    .dataframe tbody tr th:only-of-type {\n",
       "        vertical-align: middle;\n",
       "    }\n",
       "\n",
       "    .dataframe tbody tr th {\n",
       "        vertical-align: top;\n",
       "    }\n",
       "\n",
       "    .dataframe thead th {\n",
       "        text-align: right;\n",
       "    }\n",
       "</style>\n",
       "<table border=\"1\" class=\"dataframe\">\n",
       "  <thead>\n",
       "    <tr style=\"text-align: right;\">\n",
       "      <th></th>\n",
       "      <th>gender</th>\n",
       "      <th>height</th>\n",
       "      <th>religion</th>\n",
       "      <th>caste</th>\n",
       "      <th>mother_tongue</th>\n",
       "      <th>profession</th>\n",
       "      <th>location</th>\n",
       "      <th>country</th>\n",
       "      <th>age_of_marriage</th>\n",
       "    </tr>\n",
       "    <tr>\n",
       "      <th>id</th>\n",
       "      <th></th>\n",
       "      <th></th>\n",
       "      <th></th>\n",
       "      <th></th>\n",
       "      <th></th>\n",
       "      <th></th>\n",
       "      <th></th>\n",
       "      <th></th>\n",
       "      <th></th>\n",
       "    </tr>\n",
       "  </thead>\n",
       "  <tbody>\n",
       "    <tr>\n",
       "      <th>2</th>\n",
       "      <td>male</td>\n",
       "      <td>5'7\"</td>\n",
       "      <td>Jain</td>\n",
       "      <td>Shwetamber</td>\n",
       "      <td>Gujarati</td>\n",
       "      <td>Doctor</td>\n",
       "      <td>Fairfax-_VA</td>\n",
       "      <td>USA</td>\n",
       "      <td>32.0</td>\n",
       "    </tr>\n",
       "    <tr>\n",
       "      <th>3</th>\n",
       "      <td>male</td>\n",
       "      <td>5'7\"</td>\n",
       "      <td>Hindu</td>\n",
       "      <td>Brahmin</td>\n",
       "      <td>Hindi</td>\n",
       "      <td>Entrepreneurs</td>\n",
       "      <td>Begusarai</td>\n",
       "      <td>India</td>\n",
       "      <td>32.0</td>\n",
       "    </tr>\n",
       "    <tr>\n",
       "      <th>4</th>\n",
       "      <td>female</td>\n",
       "      <td>5'0\"</td>\n",
       "      <td>Hindu</td>\n",
       "      <td>Thakur</td>\n",
       "      <td>Hindi</td>\n",
       "      <td>Architect</td>\n",
       "      <td>Mumbai</td>\n",
       "      <td>India</td>\n",
       "      <td>30.0</td>\n",
       "    </tr>\n",
       "    <tr>\n",
       "      <th>5</th>\n",
       "      <td>male</td>\n",
       "      <td>5'5\"</td>\n",
       "      <td>Christian</td>\n",
       "      <td>Born Again</td>\n",
       "      <td>Malayalam</td>\n",
       "      <td>Sales_Professional</td>\n",
       "      <td>Sulthan_Bathery</td>\n",
       "      <td>India</td>\n",
       "      <td>30.0</td>\n",
       "    </tr>\n",
       "    <tr>\n",
       "      <th>6</th>\n",
       "      <td>male</td>\n",
       "      <td>5'5\"</td>\n",
       "      <td>Hindu</td>\n",
       "      <td>Valmiki</td>\n",
       "      <td>Hindi</td>\n",
       "      <td>Sportsman</td>\n",
       "      <td>Delhi</td>\n",
       "      <td>India</td>\n",
       "      <td>29.0</td>\n",
       "    </tr>\n",
       "  </tbody>\n",
       "</table>\n",
       "</div>"
      ],
      "text/plain": [
       "    gender height   religion        caste mother_tongue          profession  \\\n",
       "id                                                                            \n",
       "2     male   5'7\"       Jain   Shwetamber      Gujarati              Doctor   \n",
       "3     male   5'7\"      Hindu      Brahmin         Hindi       Entrepreneurs   \n",
       "4   female   5'0\"      Hindu       Thakur         Hindi           Architect   \n",
       "5     male   5'5\"  Christian   Born Again     Malayalam  Sales_Professional   \n",
       "6     male   5'5\"      Hindu      Valmiki         Hindi           Sportsman   \n",
       "\n",
       "           location country  age_of_marriage  \n",
       "id                                            \n",
       "2       Fairfax-_VA     USA             32.0  \n",
       "3         Begusarai   India             32.0  \n",
       "4            Mumbai   India             30.0  \n",
       "5   Sulthan_Bathery   India             30.0  \n",
       "6             Delhi   India             29.0  "
      ]
     },
     "execution_count": 64,
     "metadata": {},
     "output_type": "execute_result"
    }
   ],
   "source": [
    "marriage_df.head()"
   ]
  },
  {
   "cell_type": "code",
   "execution_count": null,
   "metadata": {},
   "outputs": [],
   "source": []
  },
  {
   "cell_type": "code",
   "execution_count": 65,
   "metadata": {},
   "outputs": [
    {
     "data": {
      "text/plain": [
       "<matplotlib.axes._subplots.AxesSubplot at 0x2ab1f6a4688>"
      ]
     },
     "execution_count": 65,
     "metadata": {},
     "output_type": "execute_result"
    },
    {
     "data": {
      "image/png": "[encoded data removed]",
      "text/plain": [
       "<Figure size 1728x648 with 1 Axes>"
      ]
     },
     "metadata": {
      "needs_background": "light"
     },
     "output_type": "display_data"
    }
   ],
   "source": [
    "plt.figure(figsize=(24, 9))\n",
    "sns.countplot(data=marriage_df, x='age_of_marriage')"
   ]
  },
  {
   "cell_type": "code",
   "execution_count": 66,
   "metadata": {},
   "outputs": [
    {
     "data": {
      "image/png": "[encoded data removed]",
      "text/plain": [
       "<Figure size 1728x648 with 1 Axes>"
      ]
     },
     "metadata": {
      "needs_background": "light"
     },
     "output_type": "display_data"
    },
    {
     "data": {
      "image/png": "[encoded data removed]",
      "text/plain": [
       "<Figure size 1728x648 with 1 Axes>"
      ]
     },
     "metadata": {
      "needs_background": "light"
     },
     "output_type": "display_data"
    }
   ],
   "source": [
    "col= ['gender', 'religion']\n",
    "for cols in col:\n",
    "    plt.figure(figsize=(24, 9))\n",
    "    sns.countplot(data=marriage_df, x='age_of_marriage', hue=cols, palette=\"Set3\")\n",
    "    plt.show()"
   ]
  },
  {
   "cell_type": "code",
   "execution_count": 67,
   "metadata": {},
   "outputs": [],
   "source": [
    "# independent and dependent variable\n",
    "x = marriage_df.iloc[:, :-1]\n",
    "y = marriage_df.iloc[:, -1]"
   ]
  },
  {
   "cell_type": "markdown",
   "metadata": {},
   "source": [
    "### Feature encoding"
   ]
  },
  {
   "cell_type": "code",
   "execution_count": 68,
   "metadata": {},
   "outputs": [],
   "source": [
    "from sklearn.preprocessing import LabelEncoder\n",
    "\n",
    "le = LabelEncoder()\n",
    "\n",
    "x.loc[:,['gender', 'religion', 'caste', 'mother_tongue', 'profession', 'location', 'country']] = \\\n",
    "x.loc[:, ['gender', 'religion', 'caste', 'mother_tongue', 'profession', 'location', 'country']].apply(le.fit_transform)"
   ]
  },
  {
   "cell_type": "code",
   "execution_count": 69,
   "metadata": {},
   "outputs": [
    {
     "data": {
      "text/html": [
       "<div>\n",
       "<style scoped>\n",
       "    .dataframe tbody tr th:only-of-type {\n",
       "        vertical-align: middle;\n",
       "    }\n",
       "\n",
       "    .dataframe tbody tr th {\n",
       "        vertical-align: top;\n",
       "    }\n",
       "\n",
       "    .dataframe thead th {\n",
       "        text-align: right;\n",
       "    }\n",
       "</style>\n",
       "<table border=\"1\" class=\"dataframe\">\n",
       "  <thead>\n",
       "    <tr style=\"text-align: right;\">\n",
       "      <th></th>\n",
       "      <th>gender</th>\n",
       "      <th>height</th>\n",
       "      <th>religion</th>\n",
       "      <th>caste</th>\n",
       "      <th>mother_tongue</th>\n",
       "      <th>profession</th>\n",
       "      <th>location</th>\n",
       "      <th>country</th>\n",
       "    </tr>\n",
       "    <tr>\n",
       "      <th>id</th>\n",
       "      <th></th>\n",
       "      <th></th>\n",
       "      <th></th>\n",
       "      <th></th>\n",
       "      <th></th>\n",
       "      <th></th>\n",
       "      <th></th>\n",
       "      <th></th>\n",
       "    </tr>\n",
       "  </thead>\n",
       "  <tbody>\n",
       "    <tr>\n",
       "      <th>2</th>\n",
       "      <td>1</td>\n",
       "      <td>5'7\"</td>\n",
       "      <td>2</td>\n",
       "      <td>34</td>\n",
       "      <td>6</td>\n",
       "      <td>22</td>\n",
       "      <td>153</td>\n",
       "      <td>19</td>\n",
       "    </tr>\n",
       "    <tr>\n",
       "      <th>3</th>\n",
       "      <td>1</td>\n",
       "      <td>5'7\"</td>\n",
       "      <td>1</td>\n",
       "      <td>14</td>\n",
       "      <td>8</td>\n",
       "      <td>25</td>\n",
       "      <td>56</td>\n",
       "      <td>5</td>\n",
       "    </tr>\n",
       "    <tr>\n",
       "      <th>4</th>\n",
       "      <td>0</td>\n",
       "      <td>5'0\"</td>\n",
       "      <td>1</td>\n",
       "      <td>36</td>\n",
       "      <td>8</td>\n",
       "      <td>7</td>\n",
       "      <td>295</td>\n",
       "      <td>5</td>\n",
       "    </tr>\n",
       "    <tr>\n",
       "      <th>5</th>\n",
       "      <td>1</td>\n",
       "      <td>5'5\"</td>\n",
       "      <td>0</td>\n",
       "      <td>13</td>\n",
       "      <td>13</td>\n",
       "      <td>68</td>\n",
       "      <td>410</td>\n",
       "      <td>5</td>\n",
       "    </tr>\n",
       "    <tr>\n",
       "      <th>6</th>\n",
       "      <td>1</td>\n",
       "      <td>5'5\"</td>\n",
       "      <td>1</td>\n",
       "      <td>38</td>\n",
       "      <td>8</td>\n",
       "      <td>74</td>\n",
       "      <td>124</td>\n",
       "      <td>5</td>\n",
       "    </tr>\n",
       "  </tbody>\n",
       "</table>\n",
       "</div>"
      ],
      "text/plain": [
       "   gender height religion caste mother_tongue profession location country\n",
       "id                                                                       \n",
       "2       1   5'7\"        2    34             6         22      153      19\n",
       "3       1   5'7\"        1    14             8         25       56       5\n",
       "4       0   5'0\"        1    36             8          7      295       5\n",
       "5       1   5'5\"        0    13            13         68      410       5\n",
       "6       1   5'5\"        1    38             8         74      124       5"
      ]
     },
     "execution_count": 69,
     "metadata": {},
     "output_type": "execute_result"
    }
   ],
   "source": [
    "x.head()"
   ]
  },
  {
   "cell_type": "code",
   "execution_count": 70,
   "metadata": {},
   "outputs": [],
   "source": [
    "# remove comas in height to over it to cm \n",
    "x['height'] = x['height'].apply(lambda x: x.replace(\"'\", \".\").strip('\"'))"
   ]
  },
  {
   "cell_type": "code",
   "execution_count": 71,
   "metadata": {},
   "outputs": [
    {
     "data": {
      "text/plain": [
       "id\n",
       "2       5.70\n",
       "3       5.70\n",
       "4       5.00\n",
       "5       5.50\n",
       "6       5.50\n",
       "        ... \n",
       "2562    5.11\n",
       "2563    5.30\n",
       "2564    5.11\n",
       "2565    5.30\n",
       "2567    5.20\n",
       "Name: height, Length: 1932, dtype: float64"
      ]
     },
     "execution_count": 71,
     "metadata": {},
     "output_type": "execute_result"
    }
   ],
   "source": [
    "# change the data type tp float\n",
    "x['height'].astype(float)"
   ]
  },
  {
   "cell_type": "code",
   "execution_count": 72,
   "metadata": {},
   "outputs": [],
   "source": [
    "x['height'] = x['height'].apply(lambda x: round(float(x) * float(30.48), 2))"
   ]
  },
  {
   "cell_type": "code",
   "execution_count": 73,
   "metadata": {},
   "outputs": [
    {
     "data": {
      "text/html": [
       "<div>\n",
       "<style scoped>\n",
       "    .dataframe tbody tr th:only-of-type {\n",
       "        vertical-align: middle;\n",
       "    }\n",
       "\n",
       "    .dataframe tbody tr th {\n",
       "        vertical-align: top;\n",
       "    }\n",
       "\n",
       "    .dataframe thead th {\n",
       "        text-align: right;\n",
       "    }\n",
       "</style>\n",
       "<table border=\"1\" class=\"dataframe\">\n",
       "  <thead>\n",
       "    <tr style=\"text-align: right;\">\n",
       "      <th></th>\n",
       "      <th>gender</th>\n",
       "      <th>height</th>\n",
       "      <th>religion</th>\n",
       "      <th>caste</th>\n",
       "      <th>mother_tongue</th>\n",
       "      <th>profession</th>\n",
       "      <th>location</th>\n",
       "      <th>country</th>\n",
       "    </tr>\n",
       "    <tr>\n",
       "      <th>id</th>\n",
       "      <th></th>\n",
       "      <th></th>\n",
       "      <th></th>\n",
       "      <th></th>\n",
       "      <th></th>\n",
       "      <th></th>\n",
       "      <th></th>\n",
       "      <th></th>\n",
       "    </tr>\n",
       "  </thead>\n",
       "  <tbody>\n",
       "    <tr>\n",
       "      <th>2</th>\n",
       "      <td>1</td>\n",
       "      <td>173.74</td>\n",
       "      <td>2</td>\n",
       "      <td>34</td>\n",
       "      <td>6</td>\n",
       "      <td>22</td>\n",
       "      <td>153</td>\n",
       "      <td>19</td>\n",
       "    </tr>\n",
       "    <tr>\n",
       "      <th>3</th>\n",
       "      <td>1</td>\n",
       "      <td>173.74</td>\n",
       "      <td>1</td>\n",
       "      <td>14</td>\n",
       "      <td>8</td>\n",
       "      <td>25</td>\n",
       "      <td>56</td>\n",
       "      <td>5</td>\n",
       "    </tr>\n",
       "    <tr>\n",
       "      <th>4</th>\n",
       "      <td>0</td>\n",
       "      <td>152.40</td>\n",
       "      <td>1</td>\n",
       "      <td>36</td>\n",
       "      <td>8</td>\n",
       "      <td>7</td>\n",
       "      <td>295</td>\n",
       "      <td>5</td>\n",
       "    </tr>\n",
       "    <tr>\n",
       "      <th>5</th>\n",
       "      <td>1</td>\n",
       "      <td>167.64</td>\n",
       "      <td>0</td>\n",
       "      <td>13</td>\n",
       "      <td>13</td>\n",
       "      <td>68</td>\n",
       "      <td>410</td>\n",
       "      <td>5</td>\n",
       "    </tr>\n",
       "    <tr>\n",
       "      <th>6</th>\n",
       "      <td>1</td>\n",
       "      <td>167.64</td>\n",
       "      <td>1</td>\n",
       "      <td>38</td>\n",
       "      <td>8</td>\n",
       "      <td>74</td>\n",
       "      <td>124</td>\n",
       "      <td>5</td>\n",
       "    </tr>\n",
       "  </tbody>\n",
       "</table>\n",
       "</div>"
      ],
      "text/plain": [
       "   gender  height religion caste mother_tongue profession location country\n",
       "id                                                                        \n",
       "2       1  173.74        2    34             6         22      153      19\n",
       "3       1  173.74        1    14             8         25       56       5\n",
       "4       0  152.40        1    36             8          7      295       5\n",
       "5       1  167.64        0    13            13         68      410       5\n",
       "6       1  167.64        1    38             8         74      124       5"
      ]
     },
     "execution_count": 73,
     "metadata": {},
     "output_type": "execute_result"
    }
   ],
   "source": [
    "x.head()"
   ]
  },
  {
   "cell_type": "markdown",
   "metadata": {},
   "source": [
    "## Feature selection\n",
    "### Recursive Feature Elimination"
   ]
  },
  {
   "cell_type": "code",
   "execution_count": 74,
   "metadata": {},
   "outputs": [],
   "source": [
    "from sklearn.feature_selection import RFE\n",
    "from sklearn.ensemble import RandomForestRegressor"
   ]
  },
  {
   "cell_type": "code",
   "execution_count": 75,
   "metadata": {},
   "outputs": [
    {
     "data": {
      "text/plain": [
       "RFE(estimator=RandomForestRegressor(), n_features_to_select=7)"
      ]
     },
     "execution_count": 75,
     "metadata": {},
     "output_type": "execute_result"
    }
   ],
   "source": [
    "rfe_feautue =  RFE(RandomForestRegressor(), n_features_to_select=7)\n",
    "rfe_feautue.fit(x, y)"
   ]
  },
  {
   "cell_type": "code",
   "execution_count": 76,
   "metadata": {},
   "outputs": [
    {
     "data": {
      "text/plain": [
       "Index(['gender', 'height', 'religion', 'caste', 'mother_tongue', 'profession',\n",
       "       'location'],\n",
       "      dtype='object')"
      ]
     },
     "execution_count": 76,
     "metadata": {},
     "output_type": "execute_result"
    }
   ],
   "source": [
    "# 10 selected featues \n",
    "best_features = x.columns[rfe_feautue.get_support()]\n",
    "best_features"
   ]
  },
  {
   "cell_type": "markdown",
   "metadata": {},
   "source": [
    "### Checking for Feature Importance"
   ]
  },
  {
   "cell_type": "code",
   "execution_count": 77,
   "metadata": {},
   "outputs": [],
   "source": [
    "from sklearn.ensemble import ExtraTreesRegressor"
   ]
  },
  {
   "cell_type": "code",
   "execution_count": 78,
   "metadata": {},
   "outputs": [
    {
     "data": {
      "text/plain": [
       "ExtraTreesRegressor()"
      ]
     },
     "execution_count": 78,
     "metadata": {},
     "output_type": "execute_result"
    }
   ],
   "source": [
    "# initialize and fit the data\n",
    "et_reg = ExtraTreesRegressor()\n",
    "et_reg.fit(x,y)"
   ]
  },
  {
   "cell_type": "code",
   "execution_count": 79,
   "metadata": {},
   "outputs": [
    {
     "name": "stdout",
     "output_type": "stream",
     "text": [
      "[0.08799851 0.08840922 0.08614057 0.37391834 0.15362052 0.08894708\n",
      " 0.09105076 0.029915  ]\n"
     ]
    }
   ],
   "source": [
    "# Print Important\n",
    "print(et_reg.feature_importances_)"
   ]
  },
  {
   "cell_type": "code",
   "execution_count": 80,
   "metadata": {},
   "outputs": [
    {
     "data": {
      "text/html": [
       "<div>\n",
       "<style scoped>\n",
       "    .dataframe tbody tr th:only-of-type {\n",
       "        vertical-align: middle;\n",
       "    }\n",
       "\n",
       "    .dataframe tbody tr th {\n",
       "        vertical-align: top;\n",
       "    }\n",
       "\n",
       "    .dataframe thead th {\n",
       "        text-align: right;\n",
       "    }\n",
       "</style>\n",
       "<table border=\"1\" class=\"dataframe\">\n",
       "  <thead>\n",
       "    <tr style=\"text-align: right;\">\n",
       "      <th></th>\n",
       "      <th>Score</th>\n",
       "    </tr>\n",
       "  </thead>\n",
       "  <tbody>\n",
       "    <tr>\n",
       "      <th>caste</th>\n",
       "      <td>0.373918</td>\n",
       "    </tr>\n",
       "    <tr>\n",
       "      <th>mother_tongue</th>\n",
       "      <td>0.153621</td>\n",
       "    </tr>\n",
       "    <tr>\n",
       "      <th>location</th>\n",
       "      <td>0.091051</td>\n",
       "    </tr>\n",
       "    <tr>\n",
       "      <th>profession</th>\n",
       "      <td>0.088947</td>\n",
       "    </tr>\n",
       "    <tr>\n",
       "      <th>height</th>\n",
       "      <td>0.088409</td>\n",
       "    </tr>\n",
       "    <tr>\n",
       "      <th>gender</th>\n",
       "      <td>0.087999</td>\n",
       "    </tr>\n",
       "    <tr>\n",
       "      <th>religion</th>\n",
       "      <td>0.086141</td>\n",
       "    </tr>\n",
       "    <tr>\n",
       "      <th>country</th>\n",
       "      <td>0.029915</td>\n",
       "    </tr>\n",
       "  </tbody>\n",
       "</table>\n",
       "</div>"
      ],
      "text/plain": [
       "                  Score\n",
       "caste          0.373918\n",
       "mother_tongue  0.153621\n",
       "location       0.091051\n",
       "profession     0.088947\n",
       "height         0.088409\n",
       "gender         0.087999\n",
       "religion       0.086141\n",
       "country        0.029915"
      ]
     },
     "execution_count": 80,
     "metadata": {},
     "output_type": "execute_result"
    }
   ],
   "source": [
    "feature_imporance_df = pd.DataFrame(et_reg.feature_importances_, index=x.columns, columns=['Score'])\n",
    "feature_imporance_df.sort_values('Score', ascending=False)"
   ]
  },
  {
   "cell_type": "code",
   "execution_count": 81,
   "metadata": {},
   "outputs": [],
   "source": [
    "feature_imporance_df = feature_imporance_df.nlargest(n=6, columns='Score')"
   ]
  },
  {
   "cell_type": "code",
   "execution_count": 82,
   "metadata": {},
   "outputs": [
    {
     "data": {
      "text/plain": [
       "<matplotlib.axes._subplots.AxesSubplot at 0x2ab21378e48>"
      ]
     },
     "execution_count": 82,
     "metadata": {},
     "output_type": "execute_result"
    },
    {
     "data": {
      "image/png": "[encoded data removed]",
      "text/plain": [
       "<Figure size 432x288 with 1 Axes>"
      ]
     },
     "metadata": {
      "needs_background": "light"
     },
     "output_type": "display_data"
    }
   ],
   "source": [
    "feature_imporance_df.plot.bar()"
   ]
  },
  {
   "cell_type": "code",
   "execution_count": 83,
   "metadata": {},
   "outputs": [
    {
     "data": {
      "text/plain": [
       "Index(['caste', 'mother_tongue', 'location', 'profession', 'height', 'gender'], dtype='object')"
      ]
     },
     "execution_count": 83,
     "metadata": {},
     "output_type": "execute_result"
    }
   ],
   "source": [
    "x = x[list(feature_imporance_df.index)]\n",
    "x.columns"
   ]
  },
  {
   "cell_type": "markdown",
   "metadata": {},
   "source": [
    "## Model Building"
   ]
  },
  {
   "cell_type": "code",
   "execution_count": 91,
   "metadata": {},
   "outputs": [],
   "source": [
    "# split train and test\n",
    "x_train,x_test,y_train,y_test = train_test_split(x,y,test_size=0.30,random_state=7)"
   ]
  },
  {
   "cell_type": "code",
   "execution_count": 115,
   "metadata": {},
   "outputs": [],
   "source": [
    "from sklearn.ensemble import RandomForestRegressor\n",
    "model = RandomForestRegressor(n_estimators=150,max_depth=13, min_samples_split=15)\n",
    "model.fit(x_train,y_train)\n",
    "y_predict = model.predict(x_test)"
   ]
  },
  {
   "cell_type": "code",
   "execution_count": 116,
   "metadata": {},
   "outputs": [
    {
     "name": "stdout",
     "output_type": "stream",
     "text": [
      "MAE :  1.0789361464142317\n",
      "MSE :  1.6032426928969308\n",
      "R Squared :  69.0 %\n"
     ]
    }
   ],
   "source": [
    "print(\"MAE : \", mean_absolute_error(y_test,y_predict))\n",
    "print(\"MSE : \", mean_squared_error(y_test,y_predict))\n",
    "print('R Squared : ', round(r2_score(y_test,y_predict), 2) * 100, '%')"
   ]
  },
  {
   "cell_type": "code",
   "execution_count": 111,
   "metadata": {},
   "outputs": [],
   "source": [
    "from sklearn.tree import DecisionTreeRegressor\n",
    "\n",
    "dtr = DecisionTreeRegressor(max_depth=13, min_samples_split=20)\n",
    "dtr.fit(x_train,y_train)\n",
    "y_predict_dtr = dtr.predict(x_test)"
   ]
  },
  {
   "cell_type": "code",
   "execution_count": 114,
   "metadata": {},
   "outputs": [
    {
     "name": "stdout",
     "output_type": "stream",
     "text": [
      "MAE :  1.0685495498864468\n",
      "MSE :  1.5946035502873026\n",
      "R Squared :  70.0 %\n"
     ]
    }
   ],
   "source": [
    "print(\"MAE : \", mean_absolute_error(y_test,y_predict_dtr))\n",
    "print(\"MSE : \", mean_squared_error(y_test,y_predict_dtr))\n",
    "print('R Squared : ', round(r2_score(y_test,y_predict_dtr), 2) * 100, '%')"
   ]
  },
  {
   "cell_type": "markdown",
   "metadata": {},
   "source": [
    "## Save model"
   ]
  },
  {
   "cell_type": "code",
   "execution_count": 118,
   "metadata": {},
   "outputs": [
    {
     "data": {
      "text/plain": [
       "['marriage_age_predict_rf.ml']"
      ]
     },
     "execution_count": 118,
     "metadata": {},
     "output_type": "execute_result"
    }
   ],
   "source": [
    "import joblib\n",
    "joblib.dump(model,'marriage_age_predict_rf.ml')"
   ]
  },
  {
   "cell_type": "code",
   "execution_count": 119,
   "metadata": {},
   "outputs": [
    {
     "data": {
      "text/plain": [
       "['marriage_age_predict_dtr.ml']"
      ]
     },
     "execution_count": 119,
     "metadata": {},
     "output_type": "execute_result"
    }
   ],
   "source": [
    "import joblib\n",
    "joblib.dump(dtr,'marriage_age_predict_dtr.ml')"
   ]
  },
  {
   "cell_type": "code",
   "execution_count": 126,
   "metadata": {},
   "outputs": [],
   "source": [
    "# to Load the mode\n",
    "load_model = joblib.load('marriage_age_predict_dtr.ml')   "
   ]
  },
  {
   "cell_type": "code",
   "execution_count": null,
   "metadata": {},
   "outputs": [],
   "source": []
  },
  {
   "cell_type": "code",
   "execution_count": null,
   "metadata": {},
   "outputs": [],
   "source": []
  },
  {
   "cell_type": "code",
   "execution_count": null,
   "metadata": {},
   "outputs": [],
   "source": []
  }
 ],
 "metadata": {
  "kernelspec": {
   "display_name": "Python 3",
   "language": "python",
   "name": "python3"
  },
  "language_info": {
   "codemirror_mode": {
    "name": "ipython",
    "version": 3
   },
   "file_extension": ".py",
   "mimetype": "text/x-python",
   "name": "python",
   "nbconvert_exporter": "python",
   "pygments_lexer": "ipython3",
   "version": "3.7.6"
  }
 },
 "nbformat": 4,
 "nbformat_minor": 4
}
